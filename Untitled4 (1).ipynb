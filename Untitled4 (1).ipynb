{
  "nbformat": 4,
  "nbformat_minor": 0,
  "metadata": {
    "colab": {
      "provenance": []
    },
    "kernelspec": {
      "name": "python3",
      "display_name": "Python 3"
    },
    "language_info": {
      "name": "python"
    }
  },
  "cells": [
    {
      "cell_type": "markdown",
      "source": [
        "python data types\n",
        "1-integer(1,2,3 -1,-2,-3)\n",
        "2-string(include characters single quotes,double  quotes,triple quotes\n",
        "3-float (include integer with point)\n",
        "4-boolean(true or false)\n",
        "\n"
      ],
      "metadata": {
        "id": "pc32YfMhrA1F"
      }
    },
    {
      "cell_type": "code",
      "execution_count": 3,
      "metadata": {
        "colab": {
          "base_uri": "https://localhost:8080/"
        },
        "id": "E8af0bO6d_Kb",
        "outputId": "07aeb845-c2ee-4321-d78e-8706f3c19646"
      },
      "outputs": [
        {
          "output_type": "stream",
          "name": "stdout",
          "text": [
            "String with the use of single quotes: \n",
            "Welcome to the AI class\n"
          ]
        }
      ],
      "source": [
        "#String with single Quotes\n",
        "String1 = 'Welcome to the AI class'\n",
        "print(\"String with the use of single quotes: \")\n",
        "print(String1)"
      ]
    },
    {
      "cell_type": "code",
      "source": [
        "#String with double Quotes\n",
        "String1 = \"I'm a Python\"\n",
        "print(\"\\nString with the use of double quotes:\")\n",
        "print(String1)"
      ],
      "metadata": {
        "colab": {
          "base_uri": "https://localhost:8080/"
        },
        "id": "YkhBZDfCfJTe",
        "outputId": "5037fcc7-531b-4c8d-df9a-9c3c8a49681f"
      },
      "execution_count": 4,
      "outputs": [
        {
          "output_type": "stream",
          "name": "stdout",
          "text": [
            "\n",
            "String with the use of double quotes:\n",
            "I'm a Python\n"
          ]
        }
      ]
    },
    {
      "cell_type": "code",
      "source": [
        "#String with tripple quotes\n",
        "String1 = (\"'I'm a Python and I live in a world of AI'\")\n",
        "print(String1)"
      ],
      "metadata": {
        "colab": {
          "base_uri": "https://localhost:8080/"
        },
        "id": "wmEPP271ftqe",
        "outputId": "13f676fa-4045-4920-9724-666b24bf1bb4"
      },
      "execution_count": 14,
      "outputs": [
        {
          "output_type": "stream",
          "name": "stdout",
          "text": [
            "'I'm a Python and I live in a world of AI'\n"
          ]
        }
      ]
    },
    {
      "cell_type": "code",
      "source": [
        "#Access characters of String\n",
        "String1 = \"ArtificialIntelligence\"\n",
        "print(\"initial String:\")\n",
        "print(String1)"
      ],
      "metadata": {
        "colab": {
          "base_uri": "https://localhost:8080/"
        },
        "id": "KzVq4TBkgV2n",
        "outputId": "15bfb26a-14fe-4438-99f8-df91911f7123"
      },
      "execution_count": 6,
      "outputs": [
        {
          "output_type": "stream",
          "name": "stdout",
          "text": [
            "initial String:\n",
            "ArtificialIntelligence\n"
          ]
        }
      ]
    },
    {
      "cell_type": "code",
      "source": [
        "#Printing First Character\n",
        "print(\"\\nFirst character of String is: \")\n",
        "print(String1[0])"
      ],
      "metadata": {
        "colab": {
          "base_uri": "https://localhost:8080/"
        },
        "id": "PknHOqqTg301",
        "outputId": "4925b22a-ad04-4382-a40d-2f5942f8bada"
      },
      "execution_count": 8,
      "outputs": [
        {
          "output_type": "stream",
          "name": "stdout",
          "text": [
            "\n",
            "First character of String is: \n",
            "A\n"
          ]
        }
      ]
    },
    {
      "cell_type": "code",
      "source": [
        "#Printing last character\n",
        "print(\"\\nLast character of String is: \")\n",
        "print (String1[-1])"
      ],
      "metadata": {
        "colab": {
          "base_uri": "https://localhost:8080/"
        },
        "id": "Sd9EsznkhVO-",
        "outputId": "39853caf-cec4-423e-bc49-55f1cddf85c8"
      },
      "execution_count": 10,
      "outputs": [
        {
          "output_type": "stream",
          "name": "stdout",
          "text": [
            "\n",
            "Last character of String is: \n",
            "e\n"
          ]
        }
      ]
    },
    {
      "cell_type": "code",
      "source": [
        "Mystring = 'Learn python'\n",
        "print(Mystring[0:8])\n",
        "print(Mystring[-12:-7],\"\\n\")"
      ],
      "metadata": {
        "colab": {
          "base_uri": "https://localhost:8080/"
        },
        "id": "R454Dp4ejGqF",
        "outputId": "0995fdd9-f0cc-468f-c40f-84affa4d77b2"
      },
      "execution_count": 27,
      "outputs": [
        {
          "output_type": "stream",
          "name": "stdout",
          "text": [
            "Learn py\n",
            "Learn \n",
            "\n"
          ]
        }
      ]
    },
    {
      "cell_type": "code",
      "source": [
        "print(Mystring[6:])\n",
        "print(Mystring[:-2], \"\\n\")"
      ],
      "metadata": {
        "colab": {
          "base_uri": "https://localhost:8080/"
        },
        "id": "cGremQ-Vltir",
        "outputId": "83d7d21e-a9a0-4ddb-aa20-55e600e2df40"
      },
      "execution_count": 22,
      "outputs": [
        {
          "output_type": "stream",
          "name": "stdout",
          "text": [
            "python\n",
            "Learn pyth \n",
            "\n"
          ]
        }
      ]
    },
    {
      "cell_type": "code",
      "source": [
        "print(Mystring[:])"
      ],
      "metadata": {
        "colab": {
          "base_uri": "https://localhost:8080/"
        },
        "id": "pdlKZsWhmFyD",
        "outputId": "d4c2ffd6-5b1b-42c3-f9e9-be6ac9cb641a"
      },
      "execution_count": 17,
      "outputs": [
        {
          "output_type": "stream",
          "name": "stdout",
          "text": [
            "Learn python\n"
          ]
        }
      ]
    },
    {
      "cell_type": "code",
      "source": [
        "x='python Class'\n",
        "print(x[::-1])"
      ],
      "metadata": {
        "colab": {
          "base_uri": "https://localhost:8080/"
        },
        "id": "Plri3TposXpe",
        "outputId": "f498b103-289e-4e2c-cf80-5bb7813f606f"
      },
      "execution_count": 29,
      "outputs": [
        {
          "output_type": "stream",
          "name": "stdout",
          "text": [
            "ssalC nohtyp\n"
          ]
        }
      ]
    },
    {
      "cell_type": "code",
      "source": [
        "x='python Class'\n",
        "print(x[0:6:2])"
      ],
      "metadata": {
        "colab": {
          "base_uri": "https://localhost:8080/"
        },
        "id": "M2S0A6niss_2",
        "outputId": "5b8dc7a3-d536-4783-fdcf-d01040524348"
      },
      "execution_count": 30,
      "outputs": [
        {
          "output_type": "stream",
          "name": "stdout",
          "text": [
            "pto\n"
          ]
        }
      ]
    },
    {
      "cell_type": "code",
      "source": [
        "x=[1,2,3,4,5]\n",
        "print(x.index(3))"
      ],
      "metadata": {
        "colab": {
          "base_uri": "https://localhost:8080/"
        },
        "id": "IWMfoN2stueS",
        "outputId": "1f5a6d73-c5dd-4564-e61d-c7c61f103ec6"
      },
      "execution_count": 31,
      "outputs": [
        {
          "output_type": "stream",
          "name": "stdout",
          "text": [
            "2\n"
          ]
        }
      ]
    },
    {
      "cell_type": "code",
      "source": [
        "x='tan'\n",
        "print(x.index('t'))"
      ],
      "metadata": {
        "colab": {
          "base_uri": "https://localhost:8080/"
        },
        "id": "-_jNFbJXuD59",
        "outputId": "1624349e-393e-448b-d725-1b83387a864f"
      },
      "execution_count": 33,
      "outputs": [
        {
          "output_type": "stream",
          "name": "stdout",
          "text": [
            "0\n"
          ]
        }
      ]
    },
    {
      "cell_type": "code",
      "source": [
        "x='python class'\n",
        "print(x[0:6:4])"
      ],
      "metadata": {
        "colab": {
          "base_uri": "https://localhost:8080/"
        },
        "id": "sXzC5Q8IwV62",
        "outputId": "314f4787-2336-4afc-e3f6-d266f8d790b6"
      },
      "execution_count": 37,
      "outputs": [
        {
          "output_type": "stream",
          "name": "stdout",
          "text": [
            "po\n"
          ]
        }
      ]
    },
    {
      "cell_type": "code",
      "source": [
        "#Assessment x=[1,2,3,3,3,4,5,5] Extract any three middle values, extract all values except\n",
        "#first and last ,extract every third values, reverse first half values\n"
      ],
      "metadata": {
        "id": "CK33Swumxvof"
      },
      "execution_count": 38,
      "outputs": []
    },
    {
      "cell_type": "code",
      "source": [
        "x=[1,2,3,3,3,4,5,5]\n",
        "print(x[3:7])"
      ],
      "metadata": {
        "colab": {
          "base_uri": "https://localhost:8080/"
        },
        "id": "SLwj5RR9y3Hk",
        "outputId": "d3378d7e-1365-4898-d4dc-2ecffd88f830"
      },
      "execution_count": 39,
      "outputs": [
        {
          "output_type": "stream",
          "name": "stdout",
          "text": [
            "[3, 3, 4, 5]\n"
          ]
        }
      ]
    }
  ]
}