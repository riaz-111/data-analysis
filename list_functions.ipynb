{
  "nbformat": 4,
  "nbformat_minor": 0,
  "metadata": {
    "colab": {
      "provenance": []
    },
    "kernelspec": {
      "name": "python3",
      "display_name": "Python 3"
    },
    "language_info": {
      "name": "python"
    }
  },
  "cells": [
    {
      "cell_type": "code",
      "execution_count": 2,
      "metadata": {
        "colab": {
          "base_uri": "https://localhost:8080/"
        },
        "id": "DUHE-ZHZ1nKf",
        "outputId": "e61abef2-a0d2-4e57-d066-b97e941ea225"
      },
      "outputs": [
        {
          "output_type": "stream",
          "name": "stdout",
          "text": [
            "['apple', 'banana', 'cherry', 'orange']\n"
          ]
        }
      ],
      "source": [
        "#Append items\n",
        "thelist=[\"apple\",\"banana\",\"cherry\"]\n",
        "thelist.append(\"orange\")\n",
        "print(thelist)\n"
      ]
    },
    {
      "cell_type": "code",
      "source": [
        "#insert items\n",
        "thelist=[\"apple\",\"banana\",\"cherry\"]\n",
        "thelist.insert(1,\"orange\")\n",
        "print(thelist)"
      ],
      "metadata": {
        "colab": {
          "base_uri": "https://localhost:8080/"
        },
        "id": "R1n7MsVY24oX",
        "outputId": "9eacb278-ffeb-4ad8-ad0c-a76f386e3119"
      },
      "execution_count": 3,
      "outputs": [
        {
          "output_type": "stream",
          "name": "stdout",
          "text": [
            "['apple', 'orange', 'banana', 'cherry']\n"
          ]
        }
      ]
    },
    {
      "cell_type": "code",
      "source": [
        "#extend list\n",
        "thelist=[\"apple\",\"banana\",\"cherry\"]\n",
        "tropical=[\"mango\",\"pineapple\",\"papaya\"]\n",
        "thelist.extend(tropical)\n",
        "print(thelist)\n"
      ],
      "metadata": {
        "colab": {
          "base_uri": "https://localhost:8080/"
        },
        "id": "XVaH8EfZ30kv",
        "outputId": "1ab604bb-4835-4469-e3d4-508f1588d900"
      },
      "execution_count": 4,
      "outputs": [
        {
          "output_type": "stream",
          "name": "stdout",
          "text": [
            "['apple', 'banana', 'cherry', 'mango', 'pineapple', 'papaya']\n"
          ]
        }
      ]
    },
    {
      "cell_type": "code",
      "source": [
        "#add any Iterable\n",
        "thelist=[\"apple\",\"banana\",\"cherry\"]\n",
        "thistuple = (\"kiwi\", \"orange\")\n",
        "thelist.extend(thistuple)\n",
        "print(thelist)\n"
      ],
      "metadata": {
        "colab": {
          "base_uri": "https://localhost:8080/"
        },
        "id": "KeIIcqby4WzS",
        "outputId": "4e5cec0b-0f94-4c4b-8266-1ad5013f5d12"
      },
      "execution_count": 5,
      "outputs": [
        {
          "output_type": "stream",
          "name": "stdout",
          "text": [
            "['apple', 'banana', 'cherry', 'kiwi', 'orange']\n"
          ]
        }
      ]
    },
    {
      "cell_type": "code",
      "source": [
        "#remove specific items\n",
        "thelist=[\"apple\",\"orange\",\"cherry\"]\n",
        "thelist.remove(\"orange\")\n",
        "print(thelist)\n"
      ],
      "metadata": {
        "colab": {
          "base_uri": "https://localhost:8080/"
        },
        "id": "xUSI6Icm-dcb",
        "outputId": "2ed79687-ee3f-49d7-b5d6-a6aae54a68b6"
      },
      "execution_count": 11,
      "outputs": [
        {
          "output_type": "stream",
          "name": "stdout",
          "text": [
            "['apple', 'cherry']\n"
          ]
        }
      ]
    },
    {
      "cell_type": "code",
      "source": [
        "#remove specified index\n",
        "thelist=[\"apple\",\"orange\",\"cherry\"]\n",
        "thelist.pop(1)\n",
        "print(thelist)"
      ],
      "metadata": {
        "colab": {
          "base_uri": "https://localhost:8080/"
        },
        "id": "Ep6xL3SFDimI",
        "outputId": "eed807ce-1883-4b60-adb9-53302fb15b05"
      },
      "execution_count": 12,
      "outputs": [
        {
          "output_type": "stream",
          "name": "stdout",
          "text": [
            "['apple', 'cherry']\n"
          ]
        }
      ]
    },
    {
      "cell_type": "code",
      "source": [
        "#delete specific index\n",
        "thislist=[\"apple\",\"banana\",\"cherry\"]\n",
        "del thislist[0]\n",
        "print(thislist)"
      ],
      "metadata": {
        "colab": {
          "base_uri": "https://localhost:8080/"
        },
        "id": "cVxmJyK3ESDJ",
        "outputId": "ccadd153-8607-46ac-f120-2920507ed53b"
      },
      "execution_count": 32,
      "outputs": [
        {
          "output_type": "stream",
          "name": "stdout",
          "text": [
            "['banana', 'cherry']\n"
          ]
        }
      ]
    },
    {
      "cell_type": "code",
      "source": [
        "#clear\n",
        "thislist=[\"apple\",\"banana\",\"cherry\"]\n",
        "thislist.clear()\n",
        "print(thislist)"
      ],
      "metadata": {
        "colab": {
          "base_uri": "https://localhost:8080/"
        },
        "id": "8n6hnaiAKa4_",
        "outputId": "df46990c-238f-44c9-83b2-5c96db2b049b"
      },
      "execution_count": 34,
      "outputs": [
        {
          "output_type": "stream",
          "name": "stdout",
          "text": [
            "[]\n"
          ]
        }
      ]
    },
    {
      "cell_type": "code",
      "source": [
        "#sort list alphabetically\n",
        "thislist=[\"orange\",\"mango\"]\n",
        "thislist.sort()\n",
        "print(thislist)"
      ],
      "metadata": {
        "colab": {
          "base_uri": "https://localhost:8080/"
        },
        "id": "KAsGbP1dEwRc",
        "outputId": "5526903f-e08e-41a5-e151-8e1b18f9cd3a"
      },
      "execution_count": 13,
      "outputs": [
        {
          "output_type": "stream",
          "name": "stdout",
          "text": [
            "['mango', 'orange']\n"
          ]
        }
      ]
    },
    {
      "cell_type": "code",
      "source": [
        "#sort decending\n",
        "thislist=[\"orange\",\"mango\",\"kiwi\",\"pineaple\",\"banana\"]\n",
        "thislist.sort(reverse = True)\n",
        "print(thislist)"
      ],
      "metadata": {
        "colab": {
          "base_uri": "https://localhost:8080/"
        },
        "id": "zJtsSrZkFA9R",
        "outputId": "5450c60f-1b91-4a56-d539-791f7652b03e"
      },
      "execution_count": 28,
      "outputs": [
        {
          "output_type": "stream",
          "name": "stdout",
          "text": [
            "['pineaple', 'orange', 'mango', 'kiwi', 'banana']\n"
          ]
        }
      ]
    },
    {
      "cell_type": "code",
      "source": [
        "#sort decending\n",
        "thislist=[100,50,65,82,23]\n",
        "thislist.sort(reverse=True)\n",
        "print(thislist)"
      ],
      "metadata": {
        "colab": {
          "base_uri": "https://localhost:8080/"
        },
        "id": "-wxugAN7Fgim",
        "outputId": "2d6d05d5-42b1-4ce3-920e-1223114ebe91"
      },
      "execution_count": 35,
      "outputs": [
        {
          "output_type": "stream",
          "name": "stdout",
          "text": [
            "[100, 82, 65, 50, 23]\n"
          ]
        }
      ]
    },
    {
      "cell_type": "code",
      "source": [
        "#case sensitive\n",
        "thislist=[\"banana\",\"Orange\",\"kiwi\",\"cherry\"]\n",
        "thislist.sort()\n",
        "print(thislist)"
      ],
      "metadata": {
        "colab": {
          "base_uri": "https://localhost:8080/"
        },
        "id": "pWaF7tV0GRZH",
        "outputId": "86a6e06d-1c5e-4582-8584-fdffbebe4446"
      },
      "execution_count": 22,
      "outputs": [
        {
          "output_type": "stream",
          "name": "stdout",
          "text": [
            "['Orange', 'banana', 'cherry', 'kiwi']\n"
          ]
        }
      ]
    },
    {
      "cell_type": "code",
      "source": [
        "#copy\n",
        "thislist=[\"apple\",\"banana\",\"cherry\"]\n",
        "mylist=thislist.copy()\n",
        "print(mylist)"
      ],
      "metadata": {
        "colab": {
          "base_uri": "https://localhost:8080/"
        },
        "id": "qtd-kis-G2Rw",
        "outputId": "f997ed1d-8fa7-41c9-f31d-df87e88d70bc"
      },
      "execution_count": 23,
      "outputs": [
        {
          "output_type": "stream",
          "name": "stdout",
          "text": [
            "['apple', 'banana', 'cherry']\n"
          ]
        }
      ]
    },
    {
      "cell_type": "code",
      "source": [
        "#join two list\n",
        "#one of the ways  are by using the + operator\n",
        "list1=[\"a\",\"b\",\"c\"]\n",
        "list2=[1,2,3]\n",
        "list3=list1+list2\n",
        "print(list3)"
      ],
      "metadata": {
        "colab": {
          "base_uri": "https://localhost:8080/"
        },
        "id": "6tP0R20QHpeJ",
        "outputId": "12ce29cc-b4ed-4c3a-999b-99dc53c1e158"
      },
      "execution_count": 26,
      "outputs": [
        {
          "output_type": "stream",
          "name": "stdout",
          "text": [
            "['a', 'b', 'c', 1, 2, 3]\n"
          ]
        }
      ]
    },
    {
      "cell_type": "code",
      "source": [
        "#extend\n",
        "list1=[\"a\",\"b\",\"c\"]\n",
        "list2=[1,2,3]\n",
        "list1.extend(list2)\n",
        "print(list1)"
      ],
      "metadata": {
        "colab": {
          "base_uri": "https://localhost:8080/"
        },
        "id": "KHwVJvmtIP1u",
        "outputId": "d43e71f9-fcec-4211-d7c6-d83c54456ae8"
      },
      "execution_count": 27,
      "outputs": [
        {
          "output_type": "stream",
          "name": "stdout",
          "text": [
            "['a', 'b', 'c', 1, 2, 3]\n"
          ]
        }
      ]
    }
  ]
}